{
 "cells": [
  {
   "cell_type": "code",
   "execution_count": 38,
   "metadata": {},
   "outputs": [],
   "source": [
    "import pandas as pd\n",
    "from pypdf import PdfReader\n",
    "import string\n",
    "import os\n",
    "import re\n",
    "\n",
    "\n"
   ]
  },
  {
   "attachments": {},
   "cell_type": "markdown",
   "metadata": {},
   "source": [
    "Gramformer for fixing sentences (kinda takes a long time)"
   ]
  },
  {
   "cell_type": "code",
   "execution_count": 39,
   "metadata": {},
   "outputs": [
    {
     "name": "stderr",
     "output_type": "stream",
     "text": [
      "c:\\Users\\akaru\\School\\Fall 2024 ML Research\\Dr. A Sentences\\Dr-A-Clone\\.venv\\Lib\\site-packages\\tqdm\\auto.py:21: TqdmWarning: IProgress not found. Please update jupyter and ipywidgets. See https://ipywidgets.readthedocs.io/en/stable/user_install.html\n",
      "  from .autonotebook import tqdm as notebook_tqdm\n",
      "c:\\Users\\akaru\\School\\Fall 2024 ML Research\\Dr. A Sentences\\Dr-A-Clone\\.venv\\Lib\\site-packages\\transformers\\models\\auto\\tokenization_auto.py:796: FutureWarning: The `use_auth_token` argument is deprecated and will be removed in v5 of Transformers. Please use `token` instead.\n",
      "  warnings.warn(\n",
      "c:\\Users\\akaru\\School\\Fall 2024 ML Research\\Dr. A Sentences\\Dr-A-Clone\\.venv\\Lib\\site-packages\\transformers\\models\\auto\\auto_factory.py:471: FutureWarning: The `use_auth_token` argument is deprecated and will be removed in v5 of Transformers. Please use `token` instead.\n",
      "  warnings.warn(\n"
     ]
    },
    {
     "name": "stdout",
     "output_type": "stream",
     "text": [
      "[Gramformer] Grammar error correct/highlight model loaded..\n"
     ]
    }
   ],
   "source": [
    "from gramformer import Gramformer\n",
    "import torch\n",
    "\n",
    "def set_seed(seed):\n",
    "  torch.manual_seed(seed)\n",
    "  if torch.cuda.is_available():\n",
    "    torch.cuda.manual_seed_all(seed)\n",
    "\n",
    "set_seed(42)\n",
    "\n",
    "usingGramFormer = True\n",
    "gf = Gramformer(models = 1, use_gpu=False) # 1=corrector, 2=detector\n",
    "def fixed_sentence(sentence: str) -> str:\n",
    "    new_sentence:str = gf.correct(sentence, max_candidates=1).pop()\n",
    "    new_sentence = sentence\n",
    "    return new_sentence"
   ]
  },
  {
   "cell_type": "code",
   "execution_count": 40,
   "metadata": {},
   "outputs": [],
   "source": [
    "def fix_text(raw_text: str) -> str:\n",
    "    def fix_letter_spacing(text):\n",
    "        letters_to_fix = [\n",
    "            char for char in string.ascii_letters if char not in ['A', 'a', 'I', 'i']]\n",
    "\n",
    "        for letter in letters_to_fix:\n",
    "            text = text.replace(f\" {letter} \", f\"{letter} \")\n",
    "            text = text.replace(f\" {letter}.\", f\"{letter}.\")\n",
    "\n",
    "        return text\n",
    "\n",
    "    trimmed_text = raw_text.strip()\n",
    "    trimmed_text = \" \".join(trimmed_text.split())\n",
    "    trimmed_text = trimmed_text.replace(\" .\", \".\")\n",
    "    trimmed_text = trimmed_text.replace(\" ,\", \",\")\n",
    "    trimmed_text = trimmed_text.replace(\" )\", \")\")\n",
    "    trimmed_text = trimmed_text.replace(\"( \", \"(\")\n",
    "    trimmed_text = trimmed_text.replace(\"-\", \"\")\n",
    "    trimmed_text = raw_text.strip()\n",
    "    trimmed_text = \" \".join(trimmed_text.split())\n",
    "    trimmed_text = fix_letter_spacing(trimmed_text)\n",
    "    return trimmed_text\n",
    "\n",
    "\n",
    "# def set_seed(seed):\n",
    "#     torch.manual_seed(seed)\n",
    "#     if torch.cuda.is_available():\n",
    "#         torch.cuda.manual_seed_all(seed)\n",
    "\n",
    "#     set_seed(1212)\n",
    "\n",
    "\n",
    "# gf = Gramformer(models=1, use_gpu=False)  # 1=corrector, 2=detector\n",
    "\n",
    "\n",
    "\n"
   ]
  },
  {
   "cell_type": "code",
   "execution_count": 57,
   "metadata": {},
   "outputs": [
    {
     "name": "stdout",
     "output_type": "stream",
     "text": [
      "document not found: apple\n"
     ]
    }
   ],
   "source": [
    "\n",
    "# Get all the document names\n",
    "doc_directory = \"PDFS\"\n",
    "names = os.listdir(doc_directory)\n",
    "\n",
    "# initialize dictionary\n",
    "# KEY: DOCUMENT NAME\n",
    "# VALUE (1-indexed): [START PAGE INCLUSIVE, END PAGE EXLUCISVE]\n",
    "\n",
    "\n",
    "docs: dict[str, (int, int)] = {'Bridging Cognition and Socioculturalism Within Conceptual Change Research- Unnecessary Foray or Unachievable Feat.pdf': (2, 6),\n",
    "                               'Cognitive Affective Engagement Model of Multiple Source Use.pdf': (2, 14),\n",
    "                               'Confronting the Challenges of Undergraduates’ Argumentation Writing in a “Learning How to Learn” Course.pdf': (2, 30),\n",
    "                               'Engagement and literacy- reading between the lines.pdf': (2, 7),\n",
    "                               'Evolution of a Learning Theory- In Praise of Scientific Speculation.pdf': (2, 18),\n",
    "                               'Hybridizing Psychological Theories- Weighing the Ends Against the Means.pdf': (2, 11),\n",
    "                               'Individual differences in college-age learners- The importance of relational reasoning for learning and assessment in higher education.pdf': (2, 10),\n",
    "                               'Investing a Novel Approach to Assessing Vocabulary Knowledge.pdf': (3, 33),\n",
    "                               'Leveraging What Students Know to Make Sense of Texts- What the Research Says About Prior Knowledge Activation.pdf': (2, 31),\n",
    "                               'Looking down the road- Future directions for research on depth and regulation of strategic processing.pdf': (2, 13),\n",
    "                               'Relational Reasoning in Tertiary Education- What Is Its Value and How Can It Be Assessed and Trained.pdf': (2, 12),\n",
    "                               'RR INSTRUCTION MANUAL.pdf': (2, 9),\n",
    "                               'Seeking Common Ground- Surveying the Theoretical and Empirical Landscapes for Curiosity and Interest.pdf': (2, 8),\n",
    "                               'Shared Discursive History- Rethinking Teachers as Role Models.pdf': (2, 22),\n",
    "                               'The Effects of Processing Multimodal Texts in Print and Digitally on Comprehension and Calibration.pdf': (2, 19),\n",
    "                               'The Relevance of Relevance for Learning and Performance.pdf': (2, 11),\n",
    "                               'Through Myth to Reality- Reframing Education as Academic Development.pdf': (2, 16),\n",
    "                               'What is Learning Anyway- A Topological Perspetive Considered.pdf': (2, 15),\n",
    "                               'What Research Has Revealed About Readers’ Struggles With Comprehension in the Digital Age- Moving Beyond the Phonics Versus Whole Language Debate.pdf': (2, 7),\n",
    "                               'Why This and Why Now- Introduction to the Special Issue on Metacognition, Self-Regulation, and Self-Regulated Learning.pdf': (2, 4),\n",
    "                               'Yes…But- Footnotes To Sage Advice.pdf': (2, 7),\n",
    "                               'apple': (1, 1),\n",
    "                               '“Here Be Dragons!” Mapping the Realm of Higher-Order, Critical, and Critical-Analytic Thinking.pdf': (2, 15),\n",
    "                               \"Alexander-MethodologicalGuidancePaper-2020.pdf\": (4, 18),\n",
    "                               \"The Development of Expertise- The Journey From Acclimation to Proficiency.pdf\": (2, 5),\n",
    "                               \"Analyzing and Integrating Models of Multiple Text Comprehension.pdf\": (1, 5),\n",
    "                               \"Issues of Constructs, Contexts, and Continuity- Commentary on Learning in Higher Education.pdf\": (1, 7),\n",
    "                               \"The Development of Relational Reasoning in South Korean Elementary and Middle-School Students A Cross-Sectional Investigation.pdf\": (2, 13),\n",
    "                               \"Activity Theory used as an Analytical Lens for Business Research.pdf\": (1, 15),\n",
    "                               \"Focusing the Conceptual Lens on Metacognition, Self-regulation, and Self-regulated Learning.pdf\": (2, 17),\n",
    "                               \"The Smart Use of Smart Technologies in Teaching and Learning Where we are and Where we Need to be.pdf\": (2, 6),\n",
    "                               \"Strategy Use in Learning From Multiple Texts An Investigation of the Integrative Framework of Learning From Multiple Texts.pdf\": (2, 15)\n",
    "                               \n",
    "\n",
    "                               }\n",
    "\n",
    "doc_names = list(docs.keys())\n",
    "\n",
    "# double check if the keys are actually files\n",
    "exists = []\n",
    "for doc_name in doc_names:\n",
    "    path = os.path.join(doc_directory, doc_name)\n",
    "    exists.append((doc_name, os.path.exists(path)))\n",
    "\n",
    "for name, status in exists:\n",
    "    if status == False:\n",
    "        print(f'document not found: {name}')\n",
    "        docs.pop(name)\n",
    "\n",
    "doc_names = list(docs.keys())\n"
   ]
  },
  {
   "cell_type": "code",
   "execution_count": 58,
   "metadata": {},
   "outputs": [],
   "source": [
    "def pdfToCSV(pdfFile: str):\n",
    "\n",
    "    reader = PdfReader(f'./PDFS/{pdfFile}')\n",
    "\n",
    "    start_page: int = docs[pdfFile][0]\n",
    "    end_page: int = docs[pdfFile][1]\n",
    "    if not isinstance(start_page, int) or not isinstance(end_page, int):\n",
    "        print(\"Start page and end page must be integers.\")\n",
    "        return 0\n",
    "\n",
    "    df = pd.DataFrame(columns=[\"SENTENCE\", \"NUM_WORDS\", \"SENTENCE_TYPE\"])\n",
    "\n",
    "    pages = reader.pages[start_page-1: end_page-1]\n",
    "    sentences = []\n",
    "    for i, page in enumerate(pages):\n",
    "        raw_text = page.extract_text()\n",
    "\n",
    "        fixed_text = fix_text(raw_text)\n",
    "        # splitting sentences on both question marks and on periods\n",
    "        split_sentences = re.split(r'[.\\s?\\s]\\s+', fixed_text)\n",
    "\n",
    "        # Only add sentences that have more than 4 words\n",
    "        filtered_sentences = [\n",
    "            fixed_sentence(sentence) for sentence in split_sentences if len(sentence.split()) >= 12 and len(sentence.split()) <= 100]\n",
    "\n",
    "        # Append these filtered sentences to the existing 'sentences' list\n",
    "        sentences += filtered_sentences\n",
    "\n",
    "    df = pd.DataFrame(sentences, columns=[\"SENTENCES\"])\n",
    "    csvFile = pdfFile.replace('.pdf', '.csv')\n",
    "    # pdfFile = pdfFile[0:-4]\n",
    "\n",
    "    output_file_path = f\"CSVS/{csvFile}\"\n",
    "    csv = df.to_csv(output_file_path, index=False, encoding=\"utf8\")\n",
    "\n",
    "    # counting lines parsed\n",
    "    df = pd.read_csv(output_file_path)\n",
    "\n",
    "    # Count the number of rows\n",
    "    num_rows = len(df)\n",
    "    print(f'CSV Location:: {output_file_path}, Number of rows: {num_rows}')\n",
    "    return num_rows\n",
    "\n",
    "# test pdfToCSV\n"
   ]
  },
  {
   "attachments": {},
   "cell_type": "markdown",
   "metadata": {},
   "source": [
    "Testing pdfToCSV function"
   ]
  },
  {
   "cell_type": "code",
   "execution_count": 60,
   "metadata": {},
   "outputs": [
    {
     "name": "stdout",
     "output_type": "stream",
     "text": [
      "PARSING The Development of Relational Reasoning in South Korean Elementary and Middle-School Students A Cross-Sectional Investigation.pdf\n",
      "CSV Location:: CSVS/The Development of Relational Reasoning in South Korean Elementary and Middle-School Students A Cross-Sectional Investigation.csv, Number of rows: 282\n",
      "PARSING Activity Theory used as an Analytical Lens for Business Research.pdf\n",
      "CSV Location:: CSVS/Activity Theory used as an Analytical Lens for Business Research.csv, Number of rows: 292\n",
      "PARSING Focusing the Conceptual Lens on Metacognition, Self-regulation, and Self-regulated Learning.pdf\n",
      "CSV Location:: CSVS/Focusing the Conceptual Lens on Metacognition, Self-regulation, and Self-regulated Learning.csv, Number of rows: 304\n",
      "PARSING The Smart Use of Smart Technologies in Teaching and Learning Where we are and Where we Need to be.pdf\n",
      "CSV Location:: CSVS/The Smart Use of Smart Technologies in Teaching and Learning Where we are and Where we Need to be.csv, Number of rows: 105\n",
      "PARSING Strategy Use in Learning From Multiple Texts An Investigation of the Integrative Framework of Learning From Multiple Texts.pdf\n",
      "CSV Location:: CSVS/Strategy Use in Learning From Multiple Texts An Investigation of the Integrative Framework of Learning From Multiple Texts.csv, Number of rows: 361\n",
      "Total rows: 1344\n"
     ]
    }
   ],
   "source": [
    "# UPDATE: for pdf in docnames, where pdf isn't already in CSV's:\n",
    "\n",
    "\n",
    "def parseCSVS(avoid_reparse=True):\n",
    "    parsed_csvs = set(os.listdir('./CSVS')) if avoid_reparse else set()\n",
    "\n",
    "\n",
    "    rows = 0\n",
    "    for pdf in doc_names:\n",
    "        # if the csv version of that pdf doesn't exist:\n",
    "        csv_filename = pdf.replace('.pdf', '.csv')\n",
    "        if csv_filename not in parsed_csvs:\n",
    "            print(\"PARSING \" + pdf)\n",
    "            rows += pdfToCSV(pdf)\n",
    "    return rows\n",
    "\n",
    "rows = parseCSVS()\n",
    "\n",
    "print(f\"Total rows: {rows}\")\n"
   ]
  },
  {
   "attachments": {},
   "cell_type": "markdown",
   "metadata": {},
   "source": [
    "Checking The Lines Parsed."
   ]
  },
  {
   "cell_type": "code",
   "execution_count": 61,
   "metadata": {},
   "outputs": [
    {
     "name": "stdout",
     "output_type": "stream",
     "text": [
      "1. Activity Theory used as an Analytical Lens for Business Research.csv: 292 rows\n",
      "2. Alexander-MethodologicalGuidancePaper-2020.csv: 267 rows\n",
      "3. Analyzing and Integrating Models of Multiple Text Comprehension.csv: 85 rows\n",
      "4. Bridging Cognition and Socioculturalism Within Conceptual Change Research- Unnecessary Foray or Unachievable Feat.csv: 97 rows\n",
      "5. Cognitive Affective Engagement Model of Multiple Source Use.csv: 313 rows\n",
      "6. Confronting the Challenges of Undergraduates’ Argumentation Writing in a “Learning How to Learn” Course.csv: 356 rows\n",
      "7. Engagement and literacy- reading between the lines.csv: 92 rows\n",
      "8. Evolution of a Learning Theory- In Praise of Scientific Speculation.csv: 272 rows\n",
      "9. Focusing the Conceptual Lens on Metacognition, Self-regulation, and Self-regulated Learning.csv: 304 rows\n",
      "10. Hybridizing Psychological Theories- Weighing the Ends Against the Means.csv: 146 rows\n",
      "11. Individual differences in college-age learners- The importance of relational reasoning for learning and assessment in higher education.csv: 147 rows\n",
      "12. Investing a Novel Approach to Assessing Vocabulary Knowledge.csv: 311 rows\n",
      "13. Issues of Constructs, Contexts, and Continuity- Commentary on Learning in Higher Education.csv: 108 rows\n",
      "14. Leveraging What Students Know to Make Sense of Texts- What the Research Says About Prior Knowledge Activation.csv: 457 rows\n",
      "15. Looking down the road- Future directions for research on depth and regulation of strategic processing.csv: 202 rows\n",
      "16. Relational Reasoning in Tertiary Education- What Is Its Value and How Can It Be Assessed and Trained.csv: 311 rows\n",
      "17. RR INSTRUCTION MANUAL.csv: 60 rows\n",
      "18. Seeking Common Ground- Surveying the Theoretical and Empirical Landscapes for Curiosity and Interest.csv: 120 rows\n",
      "19. Shared Discursive History- Rethinking Teachers as Role Models.csv: 299 rows\n",
      "20. Strategy Use in Learning From Multiple Texts An Investigation of the Integrative Framework of Learning From Multiple Texts.csv: 361 rows\n",
      "21. The Development of Expertise- The Journey From Acclimation to Proficiency.csv: 109 rows\n",
      "22. The Development of Relational Reasoning in South Korean Elementary and Middle-School Students A Cross-Sectional Investigation.csv: 282 rows\n",
      "23. The Effects of Processing Multimodal Texts in Print and Digitally on Comprehension and Calibration.csv: 335 rows\n",
      "24. The Relevance of Relevance for Learning and Performance.csv: 212 rows\n",
      "25. The Smart Use of Smart Technologies in Teaching and Learning Where we are and Where we Need to be.csv: 105 rows\n",
      "26. Through Myth to Reality- Reframing Education as Academic Development.csv: 207 rows\n",
      "27. What is Learning Anyway- A Topological Perspetive Considered.csv: 368 rows\n",
      "28. What Research Has Revealed About Readers’ Struggles With Comprehension in the Digital Age- Moving Beyond the Phonics Versus Whole Language Debate.csv: 147 rows\n",
      "29. Why This and Why Now- Introduction to the Special Issue on Metacognition, Self-Regulation, and Self-Regulated Learning.csv: 44 rows\n",
      "30. Yes…But- Footnotes To Sage Advice.csv: 100 rows\n",
      "31. “Here Be Dragons!” Mapping the Realm of Higher-Order, Critical, and Critical-Analytic Thinking.csv: 205 rows\n",
      "TOTAL ROWS: 6714\n"
     ]
    }
   ],
   "source": [
    "\n",
    "total_rows = 0\n",
    "# Directory containing CSV files\n",
    "\n",
    "\n",
    "# Ensure the directory exists\n",
    "\n",
    "# if (usingGramFormer): csv_directory += \"_GRAMFORMER\"\n",
    "csv_directory = 'CSVS'\n",
    "os.makedirs(csv_directory, exist_ok=True)\n",
    "\n",
    "# Iterate over all files in the directory\n",
    "for i, filename in enumerate(os.listdir(csv_directory)):\n",
    "    # Check if the file is a CSV\n",
    "    if filename.endswith(\".csv\"):\n",
    "        # Construct the full file path\n",
    "        file_path = os.path.join(csv_directory, filename)\n",
    "        \n",
    "        # Read the CSV into a DataFrame\n",
    "        df = pd.read_csv(file_path)\n",
    "        \n",
    "        # Count the number of rows\n",
    "        num_rows = len(df)\n",
    "        total_rows += num_rows\n",
    "        \n",
    "        # Output the result\n",
    "        print(f'{i+1}. {filename}: {num_rows} rows')\n",
    "\n",
    "print(f'TOTAL ROWS: {total_rows}')"
   ]
  },
  {
   "attachments": {},
   "cell_type": "markdown",
   "metadata": {},
   "source": [
    "<h1>SCRATCH WORK--FIXING GRAMMAR</h1>"
   ]
  },
  {
   "attachments": {},
   "cell_type": "markdown",
   "metadata": {},
   "source": [
    "GRAMMAR FIX TESTING\n",
    "\n",
    "1) stimulating literature, orrisk turning “struggling readers” into “struggling thinkers” by failing to teach themto think critically and intensively about what they read or hear\n",
    "2) Speci ﬁcally, this collection of articles shared a view of relevance as person-centered, complex and multifaceted, important, and mod-iﬁable\n",
    "3) When students and teachers grasp those principles, they can see them re ﬂected in the content and are more likely to recog- nize the value or utility of a speci ﬁc lesson or task meant to build on those principles\n",
    "4) ’s(this issue) conceptualization carries the same conno- tation of a “personally meaningful connection ”(p\n",
    "5) We created a comprehension calibration score for each participant for each medium that cor- responded to the definition of calibration as the difference between predicted and actual perform-ance (Alexander, 2013 ; Fischhoff et al., 1977 ; Glenberg et al., 1987)\n",
    "6) Yet, in multimodal studies employing eye-tracking technology with quite short texts containing carefully positionedvisuals, there were those clusters of students who attended only superficially to the visual content (Mason et al., 2013a,2013b)\n",
    "7) 17 ‘parrhesia’ to describe true speech in which the subject is articulating sincere convictions that they authenticate by their public actions in a context where the act itself pre-supposes an asymmetry of power\n",
    "8) 7 experiences within the socio-political context of their work where they too have been recipients of varied forms of micro-aggression"
   ]
  },
  {
   "cell_type": "code",
   "execution_count": null,
   "metadata": {},
   "outputs": [],
   "source": [
    "# import language_tool_python\n",
    "# from pyaspeller import YandexSpeller\n",
    "\n",
    "# Load model directly\n",
    "# from transformers import T5Tokenizer, T5ForConditionalGeneration\n",
    "\n",
    "# model_name = \"flexudy/t5-small-wav2vec2-grammar-fixer\"\n",
    "\n",
    "# tokenizer = T5Tokenizer.from_pretrained(model_name)\n",
    "\n",
    "# model = T5ForConditionalGeneration.from_pretrained(model_name)\n",
    "\n",
    "\n",
    "# from textblob import TextBlob \n",
    "\n",
    "\n"
   ]
  },
  {
   "cell_type": "code",
   "execution_count": null,
   "metadata": {},
   "outputs": [
    {
     "name": "stdout",
     "output_type": "stream",
     "text": [
      "BEFORE: \n",
      "['stimulating literature, orrisk turning “struggling readers” into “struggling thinkers” by failing to teach themto think critically and intensively about what they read or hear', 'Speci ﬁcally, this collection of articles shared a view of relevance as person-centered, complex and multifaceted, important, and mod-iﬁable', 'When students and teachers grasp those principles, they can see them re ﬂected in the content and are more likely to recog- nize the value or utility of a speci ﬁc lesson or task meant to build on those principles', ' ’s(this issue) conceptualization carries the same conno- tation of a “personally meaningful connection ”(p', 'We created a comprehension calibration score for each participant for each medium that cor- responded to the definition of calibration as the difference between predicted and actual perform-ance (Alexander, 2013 ; Fischhoff et al., 1977 ; Glenberg et al., 1987)', 'Yet, in multimodal studies employing eye-tracking technology with quite short texts containing carefully positionedvisuals, there were those clusters of students who attended only superficially to the visual content (Mason et al., 2013a,2013b)', '17 ‘parrhesia’ to describe true speech in which the subject is articulating sincere convictions that they authenticate by their public actions in a context where the act itself pre-supposes an asymmetry of power', '7 experiences within the socio-political context of their work where they too have been recipients of varied forms of micro-aggression']\n"
     ]
    }
   ],
   "source": [
    "\n",
    "\n",
    "sentences = [\"stimulating literature, orrisk turning “struggling readers” into “struggling thinkers” by failing to teach themto think critically and intensively about what they read or hear\",\n",
    "             \"Speci ﬁcally, this collection of articles shared a view of relevance as person-centered, complex and multifaceted, important, and mod-iﬁable\",\n",
    "             \"When students and teachers grasp those principles, they can see them re ﬂected in the content and are more likely to recog- nize the value or utility of a speci ﬁc lesson or task meant to build on those principles\",\n",
    "             \" ’s(this issue) conceptualization carries the same conno- tation of a “personally meaningful connection ”(p\",\n",
    "             \"We created a comprehension calibration score for each participant for each medium that cor- responded to the definition of calibration as the difference between predicted and actual perform-ance (Alexander, 2013 ; Fischhoff et al., 1977 ; Glenberg et al., 1987)\",\n",
    "             \"Yet, in multimodal studies employing eye-tracking technology with quite short texts containing carefully positionedvisuals, there were those clusters of students who attended only superficially to the visual content (Mason et al., 2013a,2013b)\",\n",
    "             \"17 ‘parrhesia’ to describe true speech in which the subject is articulating sincere convictions that they authenticate by their public actions in a context where the act itself pre-supposes an asymmetry of power\",\n",
    "             \"7 experiences within the socio-political context of their work where they too have been recipients of varied forms of micro-aggression\"]\n",
    "\n",
    "print(\"BEFORE: \")\n",
    "fixed = []\n",
    "print(sentences)\n",
    "\n",
    "# def error_correct_pyspeller(sample_text):\n",
    "#     speller = YandexSpeller()\n",
    "#     fixed = speller.spelled(sample_text)\n",
    "#     return fixed\n",
    "\n",
    "# fixer = language_tool_python.LanguageTool(\"en-US\")\n",
    "\n",
    "# def fixed_sentence(sentence: str) -> str:\n",
    "#     # sentence=sentence.replace(\"-\", \"\")\n",
    "#     sentence = re.sub(r\"p\\($\", \"\", sentence)\n",
    "#     sentence = TextBlob(sentence).correct()\n",
    "\n",
    "#     return str(sentence)\n",
    "\n",
    "# for i in range(len(sentences)):\n",
    "#     s = sentences[i]\n",
    "#     fixed.append(fixed_sentence(s))\n",
    "\n"
   ]
  },
  {
   "cell_type": "code",
   "execution_count": null,
   "metadata": {},
   "outputs": [],
   "source": [
    "for original, corrected in zip(sentences, fixed):\n",
    "    print(\"Original Sentence:\\n\"+original)\n",
    "    print(\"Corrected Sentence:\\n\"+corrected)\n",
    "    diff = difflib.unified_diff(\n",
    "        original.split(), corrected.split(),\n",
    "        lineterm='',\n",
    "        fromfile='Original',\n",
    "        tofile='Corrected'\n",
    "    )\n",
    "    print(\"\\n\".join(diff))\n",
    "    print(\"---\")"
   ]
  }
 ],
 "metadata": {
  "kernelspec": {
   "display_name": "Python 3",
   "language": "python",
   "name": "python3"
  },
  "language_info": {
   "codemirror_mode": {
    "name": "ipython",
    "version": 3
   },
   "file_extension": ".py",
   "mimetype": "text/x-python",
   "name": "python",
   "nbconvert_exporter": "python",
   "pygments_lexer": "ipython3",
   "version": "3.12.0"
  },
  "orig_nbformat": 4
 },
 "nbformat": 4,
 "nbformat_minor": 2
}
