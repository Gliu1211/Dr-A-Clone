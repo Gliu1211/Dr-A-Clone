{
 "cells": [
  {
   "cell_type": "code",
   "execution_count": 8,
   "metadata": {},
   "outputs": [],
   "source": [
    "import pandas as pd\n",
    "from pypdf import PdfReader\n",
    "import string\n",
    "import os\n",
    "import re\n"
   ]
  },
  {
   "cell_type": "code",
   "execution_count": 9,
   "metadata": {},
   "outputs": [],
   "source": [
    "def fix_text(raw_text: str) -> str:\n",
    "    def fix_letter_spacing(text):\n",
    "        letters_to_fix = [\n",
    "            char for char in string.ascii_letters if char not in ['A', 'a', 'I', 'i']]\n",
    "\n",
    "        for letter in letters_to_fix:\n",
    "            text = text.replace(f\" {letter} \", f\"{letter} \")\n",
    "            text = text.replace(f\" {letter}.\", f\"{letter}.\")\n",
    "\n",
    "        return text\n",
    "\n",
    "    trimmed_text = raw_text.strip()\n",
    "    trimmed_text = \" \".join(trimmed_text.split())\n",
    "    trimmed_text = trimmed_text.replace(\" .\", \".\")\n",
    "    trimmed_text = trimmed_text.replace(\" ,\", \",\")\n",
    "    trimmed_text = trimmed_text.replace(\" )\", \")\")\n",
    "    trimmed_text = trimmed_text.replace(\"( \", \"(\")\n",
    "    trimmed_text = trimmed_text.replace(\" -\", \"-\")\n",
    "    trimmed_text = fix_letter_spacing(trimmed_text)\n",
    "    return trimmed_text\n"
   ]
  },
  {
   "cell_type": "code",
   "execution_count": 10,
   "metadata": {},
   "outputs": [
    {
     "name": "stdout",
     "output_type": "stream",
     "text": [
      "document not found: apple\n"
     ]
    }
   ],
   "source": [
    "\n",
    "# Get all the document names\n",
    "doc_directory = \"PDFS\"\n",
    "names = os.listdir(doc_directory)\n",
    "\n",
    "# initialize dictionary\n",
    "# KEY: DOCUMENT NAME\n",
    "# VALUE (1-indexed): [START PAGE INCLUSIVE, END PAGE EXLUCISVE]\n",
    "\n",
    "\n",
    "docs: dict[str, (int, int)] = {'Bridging Cognition and Socioculturalism Within Conceptual Change Research- Unnecessary Foray or Unachievable Feat.pdf': (2, 6),\n",
    "                               'Cognitive Affective Engagement Model of Multiple Source Use.pdf': (2, 14),\n",
    "                               'Confronting the Challenges of Undergraduates’ Argumentation Writing in a “Learning How to Learn” Course.pdf': (2, 30),\n",
    "                               'Engagement and literacy- reading between the lines.pdf': (2, 7),\n",
    "                               'Evolution of a Learning Theory- In Praise of Scientific Speculation.pdf': (2, 18),\n",
    "                               'Hybridizing Psychological Theories- Weighing the Ends Against the Means.pdf': (2, 11),\n",
    "                               'Individual differences in college-age learners- The importance of relational reasoning for learning and assessment in higher education.pdf': (2, 10),\n",
    "                               'Investing a Novel Approach to Assessing Vocabulary Knowledge.pdf': (3, 33),\n",
    "                               'Leveraging What Students Know to Make Sense of Texts- What the Research Says About Prior Knowledge Activation.pdf': (2, 31),\n",
    "                               'Looking down the road- Future directions for research on depth and regulation of strategic processing.pdf': (2, 13),\n",
    "                               'Relational Reasoning in Tertiary Education- What Is Its Value and How Can It Be Assessed and Trained.pdf': (2, 12),\n",
    "                               'RR INSTRUCTION MANUAL.pdf': (2, 9),\n",
    "                               'Seeking Common Ground- Surveying the Theoretical and Empirical Landscapes for Curiosity and Interest.pdf': (2, 8),\n",
    "                               'Shared Discursive History- Rethinking Teachers as Role Models.pdf': (2, 22),\n",
    "                               'The Effects of Processing Multimodal Texts in Print and Digitally on Comprehension and Calibration.pdf': (2, 19),\n",
    "                               'The Relevance of Relevance for Learning and Performance.pdf': (2, 11),\n",
    "                               'Through Myth to Reality- Reframing Education as Academic Development.pdf': (2, 16),\n",
    "                               'What is Learning Anyway- A Topological Perspetive Considered.pdf': (2, 15),\n",
    "                               'What Research Has Revealed About Readers’ Struggles With Comprehension in the Digital Age- Moving Beyond the Phonics Versus Whole Language Debate.pdf': (2, 7),\n",
    "                               'Why This and Why Now- Introduction to the Special Issue on Metacognition, Self-Regulation, and Self-Regulated Learning.pdf': (2, 4),\n",
    "                               'Yes…But- Footnotes To Sage Advice.pdf': (2, 7),\n",
    "                               'apple': (1, 1),\n",
    "                               '“Here Be Dragons!” Mapping the Realm of Higher-Order, Critical, and Critical-Analytic Thinking.pdf': (2, 15),\n",
    "\n",
    "                               }\n",
    "\n",
    "doc_names = list(docs.keys())\n",
    "\n",
    "# double check if the keys are actually files\n",
    "exists = []\n",
    "for doc_name in doc_names:\n",
    "    path = os.path.join(doc_directory, doc_name)\n",
    "    exists.append((doc_name, os.path.exists(path)))\n",
    "\n",
    "for name, status in exists:\n",
    "    if status == False:\n",
    "        print(f'document not found: {name}')\n",
    "        docs.pop(name)\n",
    "\n",
    "doc_names = list(docs.keys())\n"
   ]
  },
  {
   "cell_type": "code",
   "execution_count": 11,
   "metadata": {},
   "outputs": [],
   "source": [
    "def pdfToCSV(pdfFile: str):\n",
    "\n",
    "    reader = PdfReader(f'./PDFS/{pdfFile}')\n",
    "\n",
    "    start_page: int = docs[pdfFile][0]\n",
    "    end_page: int = docs[pdfFile][1]\n",
    "    if not isinstance(start_page, int) or not isinstance(end_page, int):\n",
    "        print(\"Start page and end page must be integers.\")\n",
    "        return 0\n",
    "\n",
    "    df = pd.DataFrame(columns=[\"SENTENCE\", \"NUM_WORDS\", \"SENTENCE_TYPE\"])\n",
    "\n",
    "    pages = reader.pages[start_page-1: end_page-1]\n",
    "    sentences = []\n",
    "    for i, page in enumerate(pages):\n",
    "        raw_text = page.extract_text()\n",
    "\n",
    "        fixed_text = fix_text(raw_text)\n",
    "        # splitting sentences on both question marks and on periods\n",
    "        split_sentences = re.split(r'[.\\s?\\s]\\s+', fixed_text)\n",
    "\n",
    "        # Only add sentences that have more than 4 words\n",
    "        filtered_sentences = [\n",
    "            sentence for sentence in split_sentences if len(sentence.split()) >= 12 and len(sentence.split()) <= 100]\n",
    "\n",
    "        # Append these filtered sentences to the existing 'sentences' list\n",
    "        sentences += filtered_sentences\n",
    "\n",
    "    df = pd.DataFrame(sentences, columns=[\"SENTENCES\"])\n",
    "    csvFile = pdfFile.replace('.pdf', '.csv')\n",
    "    # pdfFile = pdfFile[0:-4]\n",
    "\n",
    "    output_file_path = f\"CSVS/{csvFile}\"\n",
    "    csv = df.to_csv(output_file_path, index=False)\n",
    "\n",
    "    # counting lines parsed\n",
    "    df = pd.read_csv(output_file_path)\n",
    "\n",
    "    # Count the number of rows\n",
    "    num_rows = len(df)\n",
    "    print(f'CSV Location:: {output_file_path}, Number of rows: {num_rows}')\n",
    "    return num_rows\n",
    "\n",
    "# test pdfToCSV\n"
   ]
  },
  {
   "attachments": {},
   "cell_type": "markdown",
   "metadata": {},
   "source": [
    "Testing pdfToCSV function"
   ]
  },
  {
   "cell_type": "code",
   "execution_count": 12,
   "metadata": {},
   "outputs": [
    {
     "name": "stdout",
     "output_type": "stream",
     "text": [
      "CSV Location:: CSVS/Bridging Cognition and Socioculturalism Within Conceptual Change Research- Unnecessary Foray or Unachievable Feat.csv, Number of rows: 97\n"
     ]
    },
    {
     "data": {
      "text/plain": [
       "97"
      ]
     },
     "execution_count": 12,
     "metadata": {},
     "output_type": "execute_result"
    }
   ],
   "source": [
    "pdfToCSV('Bridging Cognition and Socioculturalism Within Conceptual Change Research- Unnecessary Foray or Unachievable Feat.pdf')"
   ]
  },
  {
   "cell_type": "code",
   "execution_count": 13,
   "metadata": {},
   "outputs": [
    {
     "name": "stdout",
     "output_type": "stream",
     "text": [
      "CSV Location:: CSVS/Bridging Cognition and Socioculturalism Within Conceptual Change Research- Unnecessary Foray or Unachievable Feat.csv, Number of rows: 97\n",
      "CSV Location:: CSVS/Cognitive Affective Engagement Model of Multiple Source Use.csv, Number of rows: 313\n",
      "CSV Location:: CSVS/Confronting the Challenges of Undergraduates’ Argumentation Writing in a “Learning How to Learn” Course.csv, Number of rows: 356\n",
      "CSV Location:: CSVS/Engagement and literacy- reading between the lines.csv, Number of rows: 92\n",
      "CSV Location:: CSVS/Evolution of a Learning Theory- In Praise of Scientific Speculation.csv, Number of rows: 272\n",
      "CSV Location:: CSVS/Hybridizing Psychological Theories- Weighing the Ends Against the Means.csv, Number of rows: 146\n",
      "CSV Location:: CSVS/Individual differences in college-age learners- The importance of relational reasoning for learning and assessment in higher education.csv, Number of rows: 144\n",
      "CSV Location:: CSVS/Investing a Novel Approach to Assessing Vocabulary Knowledge.csv, Number of rows: 310\n",
      "CSV Location:: CSVS/Leveraging What Students Know to Make Sense of Texts- What the Research Says About Prior Knowledge Activation.csv, Number of rows: 458\n",
      "CSV Location:: CSVS/Looking down the road- Future directions for research on depth and regulation of strategic processing.csv, Number of rows: 200\n",
      "CSV Location:: CSVS/Relational Reasoning in Tertiary Education- What Is Its Value and How Can It Be Assessed and Trained.csv, Number of rows: 311\n",
      "CSV Location:: CSVS/RR INSTRUCTION MANUAL.csv, Number of rows: 60\n",
      "CSV Location:: CSVS/Seeking Common Ground- Surveying the Theoretical and Empirical Landscapes for Curiosity and Interest.csv, Number of rows: 119\n",
      "CSV Location:: CSVS/Shared Discursive History- Rethinking Teachers as Role Models.csv, Number of rows: 297\n",
      "CSV Location:: CSVS/The Effects of Processing Multimodal Texts in Print and Digitally on Comprehension and Calibration.csv, Number of rows: 330\n",
      "CSV Location:: CSVS/The Relevance of Relevance for Learning and Performance.csv, Number of rows: 212\n",
      "CSV Location:: CSVS/Through Myth to Reality- Reframing Education as Academic Development.csv, Number of rows: 205\n",
      "CSV Location:: CSVS/What is Learning Anyway- A Topological Perspetive Considered.csv, Number of rows: 368\n",
      "CSV Location:: CSVS/What Research Has Revealed About Readers’ Struggles With Comprehension in the Digital Age- Moving Beyond the Phonics Versus Whole Language Debate.csv, Number of rows: 147\n",
      "CSV Location:: CSVS/Why This and Why Now- Introduction to the Special Issue on Metacognition, Self-Regulation, and Self-Regulated Learning.csv, Number of rows: 44\n",
      "CSV Location:: CSVS/Yes…But- Footnotes To Sage Advice.csv, Number of rows: 100\n",
      "CSV Location:: CSVS/“Here Be Dragons!” Mapping the Realm of Higher-Order, Critical, and Critical-Analytic Thinking.csv, Number of rows: 205\n",
      "Total rows: 4786\n"
     ]
    }
   ],
   "source": [
    "rows = 0\n",
    "for pdf in doc_names:\n",
    "    rows += pdfToCSV(pdf)\n",
    "\n",
    "print(f\"Total rows: {rows}\")\n"
   ]
  },
  {
   "attachments": {},
   "cell_type": "markdown",
   "metadata": {},
   "source": [
    "Checking The Lines Parsed."
   ]
  },
  {
   "cell_type": "code",
   "execution_count": 14,
   "metadata": {},
   "outputs": [
    {
     "name": "stdout",
     "output_type": "stream",
     "text": [
      "1. Bridging Cognition and Socioculturalism Within Conceptual Change Research- Unnecessary Foray or Unachievable Feat.csv: 97 rows\n",
      "2. Cognitive Affective Engagement Model of Multiple Source Use.csv: 313 rows\n",
      "3. Confronting the Challenges of Undergraduates’ Argumentation Writing in a “Learning How to Learn” Course.csv: 356 rows\n",
      "4. Engagement and literacy- reading between the lines.csv: 92 rows\n",
      "5. Evolution of a Learning Theory- In Praise of Scientific Speculation.csv: 272 rows\n",
      "6. Hybridizing Psychological Theories- Weighing the Ends Against the Means.csv: 146 rows\n",
      "7. Individual differences in college-age learners- The importance of relational reasoning for learning and assessment in higher education.csv: 144 rows\n",
      "8. Investing a Novel Approach to Assessing Vocabulary Knowledge.csv: 310 rows\n",
      "9. Leveraging What Students Know to Make Sense of Texts- What the Research Says About Prior Knowledge Activation.csv: 458 rows\n",
      "10. Looking down the road- Future directions for research on depth and regulation of strategic processing.csv: 200 rows\n",
      "11. Relational Reasoning in Tertiary Education- What Is Its Value and How Can It Be Assessed and Trained.csv: 311 rows\n",
      "12. RR INSTRUCTION MANUAL.csv: 60 rows\n",
      "13. Seeking Common Ground- Surveying the Theoretical and Empirical Landscapes for Curiosity and Interest.csv: 119 rows\n",
      "14. Shared Discursive History- Rethinking Teachers as Role Models.csv: 297 rows\n",
      "15. The Effects of Processing Multimodal Texts in Print and Digitally on Comprehension and Calibration.csv: 330 rows\n",
      "16. The Relevance of Relevance for Learning and Performance.csv: 212 rows\n",
      "17. Through Myth to Reality- Reframing Education as Academic Development.csv: 205 rows\n",
      "18. What is Learning Anyway- A Topological Perspetive Considered.csv: 368 rows\n",
      "19. What Research Has Revealed About Readers’ Struggles With Comprehension in the Digital Age- Moving Beyond the Phonics Versus Whole Language Debate.csv: 147 rows\n",
      "20. Why This and Why Now- Introduction to the Special Issue on Metacognition, Self-Regulation, and Self-Regulated Learning.csv: 44 rows\n",
      "21. Yes…But- Footnotes To Sage Advice.csv: 100 rows\n",
      "22. “Here Be Dragons!” Mapping the Realm of Higher-Order, Critical, and Critical-Analytic Thinking.csv: 205 rows\n",
      "TOTAL ROWS: 4786\n"
     ]
    }
   ],
   "source": [
    "\n",
    "total_rows = 0\n",
    "# Directory containing CSV files\n",
    "csv_directory = 'CSVS'\n",
    "\n",
    "# Iterate over all files in the directory\n",
    "for i, filename in enumerate(os.listdir(csv_directory)):\n",
    "    # Check if the file is a CSV\n",
    "    if filename.endswith(\".csv\"):\n",
    "        # Construct the full file path\n",
    "        file_path = os.path.join(csv_directory, filename)\n",
    "        \n",
    "        # Read the CSV into a DataFrame\n",
    "        df = pd.read_csv(file_path)\n",
    "        \n",
    "        # Count the number of rows\n",
    "        num_rows = len(df)\n",
    "        total_rows += num_rows\n",
    "        \n",
    "        # Output the result\n",
    "        print(f'{i+1}. {filename}: {num_rows} rows')\n",
    "\n",
    "print(f'TOTAL ROWS: {total_rows}')"
   ]
  }
 ],
 "metadata": {
  "kernelspec": {
   "display_name": "Python 3",
   "language": "python",
   "name": "python3"
  },
  "language_info": {
   "codemirror_mode": {
    "name": "ipython",
    "version": 3
   },
   "file_extension": ".py",
   "mimetype": "text/x-python",
   "name": "python",
   "nbconvert_exporter": "python",
   "pygments_lexer": "ipython3",
   "version": "3.12.1"
  },
  "orig_nbformat": 4
 },
 "nbformat": 4,
 "nbformat_minor": 2
}
