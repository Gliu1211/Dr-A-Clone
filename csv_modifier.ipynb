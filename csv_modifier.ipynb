{
 "cells": [
  {
   "attachments": {},
   "cell_type": "markdown",
   "metadata": {},
   "source": [
    "Imports"
   ]
  },
  {
   "cell_type": "code",
   "execution_count": 39,
   "metadata": {},
   "outputs": [],
   "source": [
    "import os\n",
    "import csv\n",
    "import spacy\n",
    "import collections\n",
    "import numpy as np\n",
    "import pandas as pd\n",
    "import matplotlib"
   ]
  },
  {
   "cell_type": "code",
   "execution_count": 40,
   "metadata": {},
   "outputs": [
    {
     "name": "stdout",
     "output_type": "stream",
     "text": [
      "0    masking significant epistemological distinctio...\n",
      "1    For in - stance, when we use the term “cogniti...\n",
      "2    Similarly, when an ap - proach to learning and...\n",
      "3    All of the aforementioned theories and their i...\n",
      "4    Further, such epistemological differences make...\n",
      "Name: SENTENCE, dtype: object\n"
     ]
    }
   ],
   "source": [
    "\n",
    "\n",
    "csv_folder = \"./CSVS/\"\n",
    "csv_files = os.listdir(csv_folder)\n",
    "\n",
    "sentences_df = pd.DataFrame(columns=[\"TITLE\", \"SENTENCE\", \"WORD_COUNT\"])\n",
    "\n",
    "\n",
    "for file in csv_files:\n",
    "    path = os.path.join(csv_folder, file)\n",
    "    title = file.replace(\".csv\", \"\") \n",
    "\n",
    "    df = pd.read_csv(path)\n",
    "\n",
    "    # Check if the \"SENTENCES\" column exists in the DataFrame\n",
    "    if \"SENTENCES\" in df.columns:\n",
    "        # Create a new DataFrame with titles and sentences\n",
    "        temp_df = df[[\"SENTENCES\"]].rename(columns={\"SENTENCES\": \"SENTENCE\"})\n",
    "        temp_df[\"TITLE\"] = title  # Add the title column\n",
    "\n",
    "        # Append to the main sentences_df DataFrame\n",
    "        sentences_df = pd.concat([sentences_df, temp_df], ignore_index=True)\n",
    "\n",
    "print(sentences_df[\"SENTENCE\"].head())\n",
    "\n",
    "\n"
   ]
  },
  {
   "cell_type": "code",
   "execution_count": 41,
   "metadata": {},
   "outputs": [
    {
     "data": {
      "text/plain": [
       "<Axes: >"
      ]
     },
     "execution_count": 41,
     "metadata": {},
     "output_type": "execute_result"
    },
    {
     "data": {
      "image/png": "[encoded data removed]",
      "text/plain": [
       "<Figure size 640x480 with 1 Axes>"
      ]
     },
     "metadata": {},
     "output_type": "display_data"
    }
   ],
   "source": [
    "# Add other features \n",
    "\n",
    "sentences_df[\"TITLE\"] = sentences_df[\"TITLE\"].astype(\"string\")\n",
    "sentences_df[\"SENTENCE\"] = sentences_df[\"SENTENCE\"].astype(\"string\")\n",
    "sentences_df[\"WORD_COUNT\"] = sentences_df[\"SENTENCE\"].apply(lambda x: len(x.split(\" \")))\n",
    "sentences_df[\"WORD_COUNT\"].hist()\n",
    "\n"
   ]
  },
  {
   "attachments": {},
   "cell_type": "markdown",
   "metadata": {},
   "source": []
  },
  {
   "attachments": {},
   "cell_type": "markdown",
   "metadata": {},
   "source": [
    "Use Spacy to Extract Features"
   ]
  },
  {
   "cell_type": "code",
   "execution_count": 42,
   "metadata": {},
   "outputs": [],
   "source": [
    "\n",
    "nlp = spacy.load(\"en_core_web_sm\")"
   ]
  },
  {
   "cell_type": "code",
   "execution_count": 43,
   "metadata": {},
   "outputs": [
    {
     "name": "stdout",
     "output_type": "stream",
     "text": [
      "The current investigation represents an initial endeavor to apply the relational reasoning framework to the vocabulary knowledge domain (6, {'DET': 4, 'ADJ': 4, 'NOUN': 6, 'VERB': 2, 'PART': 1, 'ADP': 1}, ['DET', 'ADJ', 'NOUN', 'VERB', 'DET', 'ADJ', 'NOUN', 'PART', 'VERB', 'DET', 'ADJ', 'NOUN', 'NOUN', 'ADP', 'DET', 'ADJ', 'NOUN', 'NOUN'], {'det': {'an', 'The', 'the'}, 'amod': {'vocabulary', 'initial', 'relational', 'current'}, 'nsubj': {'investigation'}, 'ROOT': {'represents'}, 'dobj': {'framework', 'endeavor'}, 'aux': {'to'}, 'relcl': {'apply'}, 'compound': {'knowledge', 'reasoning'}, 'prep': {'to'}, 'pobj': {'domain'}})\n"
     ]
    }
   ],
   "source": [
    "\n",
    "\n",
    "sentences = sentences_df[\"SENTENCE\"]\n",
    "random_sentence = np.random.choice(sentences)\n",
    "\n",
    "\n",
    "def getExtractedSentenceInfo(s: str):\n",
    "    doc = nlp(s)\n",
    "    is_stop_count = 0\n",
    "    pos_tag_count = collections.defaultdict(int)\n",
    "    structured_pos = []  # Store the POS tags in a structured way\n",
    "    deps = collections.defaultdict(set)\n",
    "\n",
    "    # Iterate over each token in the document\n",
    "    for token in doc:\n",
    "        if token.is_stop:\n",
    "            is_stop_count += 1\n",
    "        pos_tag_count[token.pos_] += 1\n",
    "        structured_pos.append((token.pos_))\n",
    "        dep = token.dep_\n",
    "        deps[dep].add(token.text)\n",
    "\n",
    "    # Return both stop word count and POS tag dict\n",
    "    return is_stop_count, dict(pos_tag_count), structured_pos, dict(deps)\n",
    "\n",
    "\n",
    "print(random_sentence, getExtractedSentenceInfo(random_sentence))\n",
    "\n",
    "# Apply the function to the dataframe, storing both stop word counts and POS tags\n",
    "sentences_df[\"IS_STOP_COUNT\"], sentences_df[\"POS_TAGS\"], sentences_df[\"STRUCTURED_POS\"], sentences_df[\"DEPS\"] = zip(\n",
    "    *sentences_df[\"SENTENCE\"].apply(getExtractedSentenceInfo))\n",
    "\n",
    "# (1) Length (3 categorical variables) - Short, Medium, Long\n",
    "# (2) Stop Word [Complexity] - Low Count, High Count\n",
    "# (3) POS TAG RULES - Low Complexity (No SCONJs), Medium Complexity (1 SCONJ), High Complexity (2+ SCONJs)\n",
    "\n",
    "\n",
    "def getLengthCategory(word_count: int):\n",
    "    if word_count < 10:\n",
    "        return \"Short\"\n",
    "    elif word_count < 20:\n",
    "        return \"Medium\"\n",
    "    else:\n",
    "        return \"Long\"\n",
    "\n",
    "\n",
    "def getStopCategory(stop_count: int, word_count: int):\n",
    "    # if fewer than 15% of the words are stop words, low, else high\n",
    "    # calculate the percentage of stop words\n",
    "    stop_percentage = stop_count / word_count\n",
    "\n",
    "    if stop_percentage < 0.15:\n",
    "        return \"Low\"\n",
    "    else:\n",
    "        return \"High\"\n",
    "\n",
    "\n",
    "def getPosCategory(pos_tags: dict):\n",
    "    # if there are more than 2 SCONJ tags, high, else medium, else low\n",
    "    if pos_tags.get(\"SCONJ\", 0) >= 2:\n",
    "        return \"High\"\n",
    "    elif pos_tags.get(\"SCONJ\", 0) == 1:\n",
    "        return \"Medium\"\n",
    "    else:\n",
    "        return \"Low\"\n",
    "\n",
    "\n",
    "sentences_df[\"LENGTH_CATEGORY\"] = sentences_df[\"WORD_COUNT\"].apply(\n",
    "    getLengthCategory)\n",
    "sentences_df[\"STOP_CATEGORY\"] = sentences_df.apply(\n",
    "    lambda x: getStopCategory(x[\"IS_STOP_COUNT\"], x[\"WORD_COUNT\"]), axis=1)\n",
    "sentences_df[\"POS_CATEGORY\"] = sentences_df[\"POS_TAGS\"].apply(getPosCategory)\n"
   ]
  },
  {
   "cell_type": "code",
   "execution_count": 44,
   "metadata": {},
   "outputs": [
    {
     "data": {
      "text/plain": [
       "4801"
      ]
     },
     "execution_count": 44,
     "metadata": {},
     "output_type": "execute_result"
    }
   ],
   "source": [
    "len(sentences_df)"
   ]
  },
  {
   "cell_type": "code",
   "execution_count": null,
   "metadata": {},
   "outputs": [],
   "source": [
    "\n"
   ]
  },
  {
   "cell_type": "code",
   "execution_count": null,
   "metadata": {},
   "outputs": [],
   "source": [
    "\n"
   ]
  },
  {
   "cell_type": "code",
   "execution_count": null,
   "metadata": {},
   "outputs": [],
   "source": []
  },
  {
   "attachments": {},
   "cell_type": "markdown",
   "metadata": {},
   "source": [
    "Classifications for training"
   ]
  },
  {
   "cell_type": "code",
   "execution_count": 45,
   "metadata": {},
   "outputs": [],
   "source": [
    "# (1) Length (3 categorical variables) - Short, Medium, Long\n",
    "# (2) Stop Word [Complexity] - Low Count, High Count\n",
    "# (3) POS TAG RULES - Low Complexity (No SCONJs), Medium Complexity (1 SCONJ), High Complexity (2+ SCONJs)\n",
    "\n",
    "def getLengthCategory(word_count: int):\n",
    "    if word_count < 10:\n",
    "        return \"Short\"\n",
    "    elif word_count < 20:\n",
    "        return \"Medium\"\n",
    "    else:\n",
    "        return \"Long\"\n",
    "    \n",
    "def getStopCategory(stop_count: int , word_count: int):\n",
    "    # if fewer than 15% of the words are stop words, low, else high\n",
    "    # calculate the percentage of stop words\n",
    "    stop_percentage = stop_count / word_count\n",
    "\n",
    "    if stop_percentage < 0.15:\n",
    "        return \"Low\"\n",
    "    else:\n",
    "        return \"High\"\n",
    "    \n",
    "def getPosCategory(pos_tags: dict):\n",
    "    # if there are more than 2 SCONJ tags, high, else medium\n",
    "    if pos_tags.get(\"SCONJ\", 0) >= 2:\n",
    "        return \"High\"\n",
    "    elif pos_tags.get(\"SCONJ\", 0) == 1:\n",
    "        return \"Medium\"\n",
    "    else:\n",
    "        return \"Low\"\n",
    "    \n",
    "    \n",
    "# loop through the dataframe and apply the functions\n",
    "sentences_df[\"LENGTH_CATEGORY\"] =sentences_df[\"WORD_COUNT\"].apply(getLengthCategory)\n",
    "sentences_df[\"STOP_CATEGORY\"] = sentences_df.apply(lambda x: getStopCategory(x[\"IS_STOP_COUNT\"], x[\"WORD_COUNT\"]), axis=1)\n",
    "sentences_df[\"POS_CATEGORY\"] = sentences_df[\"POS_TAGS\"].apply(getPosCategory)"
   ]
  },
  {
   "attachments": {},
   "cell_type": "markdown",
   "metadata": {},
   "source": [
    "SENDING TO CSV (AND HTML FOR DISPLAY)"
   ]
  },
  {
   "cell_type": "code",
   "execution_count": 46,
   "metadata": {},
   "outputs": [],
   "source": [
    "path=\"EXTRACTED_SENTENCE_DATA\"\n",
    "sentences_df.to_csv(f'{path}.csv')\n",
    "sentences_df.to_html(f'{path}.html')\n"
   ]
  },
  {
   "attachments": {},
   "cell_type": "markdown",
   "metadata": {},
   "source": [
    "MAKING SURE I SENT IT CORRECTLY"
   ]
  },
  {
   "cell_type": "code",
   "execution_count": 47,
   "metadata": {},
   "outputs": [],
   "source": [
    "df_test = pd.read_csv(f'{path}.csv')"
   ]
  }
 ],
 "metadata": {
  "kernelspec": {
   "display_name": "Python 3",
   "language": "python",
   "name": "python3"
  },
  "language_info": {
   "codemirror_mode": {
    "name": "ipython",
    "version": 3
   },
   "file_extension": ".py",
   "mimetype": "text/x-python",
   "name": "python",
   "nbconvert_exporter": "python",
   "pygments_lexer": "ipython3",
   "version": "3.12.1"
  },
  "orig_nbformat": 4
 },
 "nbformat": 4,
 "nbformat_minor": 2
}
