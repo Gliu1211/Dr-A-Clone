{
 "cells": [
  {
   "attachments": {},
   "cell_type": "markdown",
   "metadata": {},
   "source": [
    "Imports"
   ]
  },
  {
   "cell_type": "code",
   "execution_count": 1,
   "metadata": {},
   "outputs": [],
   "source": [
    "import os\n",
    "import csv\n",
    "import spacy\n",
    "import numpy as np \n",
    "import pandas as pd\n",
    "import collections\n"
   ]
  },
  {
   "attachments": {},
   "cell_type": "markdown",
   "metadata": {},
   "source": [
    "<h1>Clean the CSV Files</h1>"
   ]
  },
  {
   "attachments": {},
   "cell_type": "markdown",
   "metadata": {},
   "source": [
    "<h2>Clean CSV Function</h2>"
   ]
  },
  {
   "cell_type": "code",
   "execution_count": 2,
   "metadata": {},
   "outputs": [],
   "source": [
    "def clean_csv(filename: str):\n",
    "    pass"
   ]
  },
  {
   "attachments": {},
   "cell_type": "markdown",
   "metadata": {},
   "source": [
    "<h2>Clean All CSVs</h2>"
   ]
  },
  {
   "cell_type": "code",
   "execution_count": 3,
   "metadata": {},
   "outputs": [
    {
     "name": "stdout",
     "output_type": "stream",
     "text": [
      "0    masking significant epistemological distinctio...\n",
      "1    For in- stance, when we use the term “cognitio...\n",
      "2    Similarly, when an ap- proach to learning and ...\n",
      "3    All of the aforementioned theories and their i...\n",
      "4    Further, such epistemological differences make...\n",
      "Name: SENTENCE, dtype: object\n"
     ]
    }
   ],
   "source": [
    "import os\n",
    "import pandas as pd\n",
    "\n",
    "csv_folder = \"./CSVS/\"\n",
    "csv_files = os.listdir(csv_folder)\n",
    "\n",
    "sentences_df = pd.DataFrame(columns=[\"TITLE\", \"SENTENCE\", \"WORD_COUNT\"])\n",
    "\n",
    "\n",
    "for file in csv_files:\n",
    "    path = os.path.join(csv_folder, file)\n",
    "    title = file.replace(\".csv\", \"\") \n",
    "\n",
    "    df = pd.read_csv(path)\n",
    "\n",
    "    # Check if the \"SENTENCES\" column exists in the DataFrame\n",
    "    if \"SENTENCES\" in df.columns:\n",
    "        # Create a new DataFrame with titles and sentences\n",
    "        temp_df = df[[\"SENTENCES\"]].rename(columns={\"SENTENCES\": \"SENTENCE\"})\n",
    "        temp_df[\"TITLE\"] = title  # Add the title column\n",
    "\n",
    "        # Append to the main sentences_df DataFrame\n",
    "        sentences_df = pd.concat([sentences_df, temp_df], ignore_index=True)\n",
    "\n",
    "print(sentences_df[\"SENTENCE\"].head())\n",
    "\n",
    "\n"
   ]
  },
  {
   "cell_type": "code",
   "execution_count": 4,
   "metadata": {},
   "outputs": [
    {
     "data": {
      "text/plain": [
       "<Axes: >"
      ]
     },
     "execution_count": 4,
     "metadata": {},
     "output_type": "execute_result"
    },
    {
     "data": {
      "image/png": "[encoded data removed]",
      "text/plain": [
       "<Figure size 640x480 with 1 Axes>"
      ]
     },
     "metadata": {},
     "output_type": "display_data"
    }
   ],
   "source": [
    "# Add other features \n",
    "\n",
    "sentences_df[\"TITLE\"] = sentences_df[\"TITLE\"].astype(\"string\")\n",
    "sentences_df[\"SENTENCE\"] = sentences_df[\"SENTENCE\"].astype(\"string\")\n",
    "sentences_df[\"WORD_COUNT\"] = sentences_df[\"SENTENCE\"].apply(lambda x: len(x.split(\" \")))\n",
    "sentences_df[\"WORD_COUNT\"].hist()\n",
    "\n"
   ]
  },
  {
   "attachments": {},
   "cell_type": "markdown",
   "metadata": {},
   "source": [
    "Use Spacy to Extract Features"
   ]
  },
  {
   "cell_type": "code",
   "execution_count": 5,
   "metadata": {},
   "outputs": [],
   "source": [
    "\n",
    "nlp = spacy.load(\"en_core_web_sm\")"
   ]
  },
  {
   "cell_type": "code",
   "execution_count": 6,
   "metadata": {},
   "outputs": [
    {
     "name": "stdout",
     "output_type": "stream",
     "text": [
      "If there is no place for the existence of a concept or the formation of concepts in any manner, thenthere is no reason to even hope for a theoretical bridging.Second, beyond the minimal test of whether there is accep- tance of conceptualization, it becomes essential to considerwhether there is a “reality” or “truth” to which a person’s orgroup’s understanding can be judged (40, {'SCONJ': 2, 'PRON': 5, 'VERB': 7, 'DET': 10, 'NOUN': 16, 'ADP': 9, 'CCONJ': 2, 'PUNCT': 8, 'ADV': 3, 'AUX': 3, 'PART': 4, 'ADJ': 4})\n"
     ]
    }
   ],
   "source": [
    "\n",
    "\n",
    "sentences = sentences_df[\"SENTENCE\"]\n",
    "random_sentence = np.random.choice(sentences)\n",
    "\n",
    "def getIsStopCountAndPosTags(s: str):\n",
    "    doc = nlp(s)\n",
    "    is_stop_count = 0\n",
    "    pos_tag_count = collections.defaultdict(int)  \n",
    "\n",
    "    # Iterate over each token in the document\n",
    "    for token in doc:\n",
    "        if token.is_stop:\n",
    "            is_stop_count += 1\n",
    "        pos_tag_count[token.pos_] += 1  \n",
    "\n",
    "    return is_stop_count, dict(pos_tag_count)  # Return both stop word count and POS tag dict\n",
    "\n",
    "print(random_sentence, getIsStopCountAndPosTags(random_sentence))\n",
    "\n",
    "# Apply the function to the dataframe, storing both stop word counts and POS tags\n",
    "sentences_df[\"IS_STOP_COUNT\"], sentences_df[\"POS_TAGS\"] = zip(*sentences_df[\"SENTENCE\"].apply(getIsStopCountAndPosTags))\n",
    "\n"
   ]
  },
  {
   "cell_type": "code",
   "execution_count": 7,
   "metadata": {},
   "outputs": [
    {
     "data": {
      "text/plain": [
       "4786"
      ]
     },
     "execution_count": 7,
     "metadata": {},
     "output_type": "execute_result"
    }
   ],
   "source": [
    "len(sentences_df)"
   ]
  },
  {
   "cell_type": "code",
   "execution_count": 11,
   "metadata": {},
   "outputs": [],
   "source": [
    "path=\"EXTRACTED_SENTENCE_DATA.csv\"\n",
    "sentences_df.to_csv(path)\n",
    "\n"
   ]
  },
  {
   "cell_type": "code",
   "execution_count": null,
   "metadata": {},
   "outputs": [],
   "source": [
    "df_test = pd.read_csv(f'{path}')\n",
    "df_test.head()\n",
    "\n",
    "df_test[\"STOP_PERCENTAGE\"] = df_test[\"IS_STOP_COUNT\"]/ df_test[\"WORD_COUNT\"]"
   ]
  },
  {
   "attachments": {},
   "cell_type": "markdown",
   "metadata": {},
   "source": [
    "Scratch Work"
   ]
  },
  {
   "cell_type": "code",
   "execution_count": null,
   "metadata": {},
   "outputs": [],
   "source": []
  },
  {
   "attachments": {},
   "cell_type": "markdown",
   "metadata": {},
   "source": [
    "TODO: NOUN SUBJECT AND NOUN OBJECTS"
   ]
  }
 ],
 "metadata": {
  "kernelspec": {
   "display_name": "Python 3",
   "language": "python",
   "name": "python3"
  },
  "language_info": {
   "codemirror_mode": {
    "name": "ipython",
    "version": 3
   },
   "file_extension": ".py",
   "mimetype": "text/x-python",
   "name": "python",
   "nbconvert_exporter": "python",
   "pygments_lexer": "ipython3",
   "version": "3.12.1"
  },
  "orig_nbformat": 4
 },
 "nbformat": 4,
 "nbformat_minor": 2
}
